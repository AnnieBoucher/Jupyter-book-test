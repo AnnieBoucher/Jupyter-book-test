{
 "cells": [
  {
   "cell_type": "markdown",
   "metadata": {
    "pycharm": {
     "name": "#%% md\n"
    }
   },
   "source": [
    "# Data Processing"
   ]
  },
  {
   "cell_type": "markdown",
   "metadata": {
    "pycharm": {
     "name": "#%% md\n"
    }
   },
   "source": [
    "\n",
    "```{note}\n",
    "Here is a\n",
    "note!\n",
    "```\n",
    "```{warning}\n",
    "Here is a\n",
    "warning\n",
    "```"
   ]
  },
  {
   "cell_type": "markdown",
   "metadata": {},
   "source": [
    "## 1. MSS data not reaching data processing ingest bucket"
   ]
  },
  {
   "cell_type": "code",
   "execution_count": 1,
   "metadata": {
    "pycharm": {
     "name": "#%% md\n"
    }
   },
   "outputs": [],
   "source": [
    "import os\n",
    "os.environ[\"AWS_PROFILE\"]=\"ads-subsetting-data-processing-dev\"\n"
   ]
  },
  {
   "cell_type": "code",
   "execution_count": 2,
   "metadata": {},
   "outputs": [],
   "source": [
    "from utils import *"
   ]
  },
  {
   "cell_type": "markdown",
   "metadata": {
    "pycharm": {
     "name": "#%% md\n"
    }
   },
   "source": [
    "### Description"
   ]
  },
  {
   "cell_type": "code",
   "execution_count": null,
   "metadata": {
    "jupyter": {
     "outputs_hidden": false
    },
    "pycharm": {
     "name": "#%%\n"
    }
   },
   "outputs": [],
   "source": [
    "# Following will set the profile name for the code\n"
   ]
  },
  {
   "cell_type": "code",
   "execution_count": 3,
   "metadata": {
    "jupyter": {
     "outputs_hidden": false
    },
    "pycharm": {
     "name": "#%%\n"
    }
   },
   "outputs": [
    {
     "name": "stdout",
     "output_type": "stream",
     "text": [
      "[{'Name': 'alison-adssubsettingdp-config-bucket-dev', 'CreationDate': datetime.datetime(2023, 3, 6, 14, 21, 52, tzinfo=tzutc())}, {'Name': 'alison-adssubsettingdp-data-processing-access-logging-dev', 'CreationDate': datetime.datetime(2023, 3, 6, 14, 21, 51, tzinfo=tzutc())}, {'Name': 'alison-adssubsettingdp-data-processing-blending-dev', 'CreationDate': datetime.datetime(2023, 3, 6, 14, 21, 51, tzinfo=tzutc())}, {'Name': 'alison-adssubsettingdp-data-processing-ingest-dev', 'CreationDate': datetime.datetime(2023, 3, 20, 14, 37, 25, tzinfo=tzutc())}, {'Name': 'alison-adssubsettingdp-data-processing-output-dev', 'CreationDate': datetime.datetime(2023, 3, 20, 14, 37, 24, tzinfo=tzutc())}, {'Name': 'alison-adssubsettingdp-data-processing-staging-dev', 'CreationDate': datetime.datetime(2023, 3, 6, 14, 21, 52, tzinfo=tzutc())}, {'Name': 'alison-ss-shc-mock-service-hub-data-bucket', 'CreationDate': datetime.datetime(2023, 2, 27, 15, 2, 18, tzinfo=tzutc())}, {'Name': 'annie2-adssubsettingdp-config-bucket-dev', 'CreationDate': datetime.datetime(2023, 3, 10, 13, 11, 47, tzinfo=tzutc())}, {'Name': 'annie2-adssubsettingdp-data-processing-access-logging-dev', 'CreationDate': datetime.datetime(2023, 3, 10, 13, 11, 46, tzinfo=tzutc())}, {'Name': 'annie2-adssubsettingdp-data-processing-blending-dev', 'CreationDate': datetime.datetime(2023, 3, 10, 13, 11, 46, tzinfo=tzutc())}, {'Name': 'annie2-adssubsettingdp-data-processing-ingest-dev', 'CreationDate': datetime.datetime(2023, 3, 10, 13, 12, 22, tzinfo=tzutc())}, {'Name': 'annie2-adssubsettingdp-data-processing-output-dev', 'CreationDate': datetime.datetime(2023, 3, 10, 13, 12, 22, tzinfo=tzutc())}, {'Name': 'annie2-adssubsettingdp-data-processing-staging-dev', 'CreationDate': datetime.datetime(2023, 3, 10, 13, 11, 47, tzinfo=tzutc())}, {'Name': 'annie2-ss-shc-mock-service-hub-data-bucket', 'CreationDate': datetime.datetime(2023, 3, 10, 11, 59, 55, tzinfo=tzutc())}, {'Name': 'ant2-adssubsettingdp-config-bucket-dev', 'CreationDate': datetime.datetime(2023, 3, 20, 14, 33, 27, tzinfo=tzutc())}, {'Name': 'ant2-adssubsettingdp-data-processing-access-logging-dev', 'CreationDate': datetime.datetime(2023, 3, 20, 14, 33, 27, tzinfo=tzutc())}, {'Name': 'ant2-adssubsettingdp-data-processing-blending-dev', 'CreationDate': datetime.datetime(2023, 3, 20, 14, 33, 27, tzinfo=tzutc())}, {'Name': 'ant2-adssubsettingdp-data-processing-ingest-dev', 'CreationDate': datetime.datetime(2023, 3, 20, 14, 34, 8, tzinfo=tzutc())}, {'Name': 'ant2-adssubsettingdp-data-processing-output-dev', 'CreationDate': datetime.datetime(2023, 3, 20, 14, 34, 8, tzinfo=tzutc())}, {'Name': 'ant2-adssubsettingdp-data-processing-staging-dev', 'CreationDate': datetime.datetime(2023, 3, 20, 14, 33, 27, tzinfo=tzutc())}, {'Name': 'ant2-ss-shc-mock-service-hub-data-bucket', 'CreationDate': datetime.datetime(2023, 3, 20, 15, 4, 49, tzinfo=tzutc())}, {'Name': 'cdk-hnb659fds-assets-827952921494-eu-west-2', 'CreationDate': datetime.datetime(2022, 12, 20, 15, 43, 23, tzinfo=tzutc())}, {'Name': 'cdk-hnb659fds-assets-827952921494-us-east-1', 'CreationDate': datetime.datetime(2022, 12, 20, 15, 45, 25, tzinfo=tzutc())}, {'Name': 'dsv-adssubsettingdp-config-bucket-dev', 'CreationDate': datetime.datetime(2023, 1, 20, 21, 44, 3, tzinfo=tzutc())}, {'Name': 'dsv-adssubsettingdp-data-processing-access-logging-dev', 'CreationDate': datetime.datetime(2023, 1, 12, 15, 30, 42, tzinfo=tzutc())}, {'Name': 'dsv-adssubsettingdp-data-processing-blending-dev', 'CreationDate': datetime.datetime(2023, 1, 12, 15, 30, 41, tzinfo=tzutc())}, {'Name': 'dsv-adssubsettingdp-data-processing-ingest-dev', 'CreationDate': datetime.datetime(2023, 1, 12, 15, 31, 19, tzinfo=tzutc())}, {'Name': 'dsv-adssubsettingdp-data-processing-output-dev', 'CreationDate': datetime.datetime(2023, 1, 13, 9, 34, 23, tzinfo=tzutc())}, {'Name': 'dsv-adssubsettingdp-data-processing-staging-dev', 'CreationDate': datetime.datetime(2023, 1, 12, 15, 30, 42, tzinfo=tzutc())}, {'Name': 'dsv-ss-shc-mock-service-hub-data-bucket', 'CreationDate': datetime.datetime(2023, 1, 12, 13, 7, 31, tzinfo=tzutc())}, {'Name': 'emily-adssubsettingdp-config-bucket-dev', 'CreationDate': datetime.datetime(2023, 3, 22, 14, 19, 9, tzinfo=tzutc())}, {'Name': 'emily-adssubsettingdp-data-processing-access-logging-dev', 'CreationDate': datetime.datetime(2023, 3, 22, 14, 19, 9, tzinfo=tzutc())}, {'Name': 'emily-adssubsettingdp-data-processing-blending-dev', 'CreationDate': datetime.datetime(2023, 3, 22, 14, 19, 9, tzinfo=tzutc())}, {'Name': 'emily-adssubsettingdp-data-processing-ingest-dev', 'CreationDate': datetime.datetime(2023, 3, 22, 14, 19, 49, tzinfo=tzutc())}, {'Name': 'emily-adssubsettingdp-data-processing-output-dev', 'CreationDate': datetime.datetime(2023, 3, 22, 14, 19, 48, tzinfo=tzutc())}, {'Name': 'emily-adssubsettingdp-data-processing-staging-dev', 'CreationDate': datetime.datetime(2023, 3, 22, 14, 19, 10, tzinfo=tzutc())}, {'Name': 'emily-ss-shc-mock-service-hub-data-bucket', 'CreationDate': datetime.datetime(2023, 3, 22, 11, 34, 16, tzinfo=tzutc())}, {'Name': 'main-adssubsettingdp-config-bucket-dev', 'CreationDate': datetime.datetime(2023, 3, 10, 10, 58, 37, tzinfo=tzutc())}, {'Name': 'main-adssubsettingdp-data-processing-access-logging-dev', 'CreationDate': datetime.datetime(2023, 3, 10, 10, 58, 37, tzinfo=tzutc())}, {'Name': 'main-adssubsettingdp-data-processing-blending-dev', 'CreationDate': datetime.datetime(2023, 3, 10, 10, 58, 37, tzinfo=tzutc())}, {'Name': 'main-adssubsettingdp-data-processing-ingest-dev', 'CreationDate': datetime.datetime(2023, 3, 13, 14, 46, 59, tzinfo=tzutc())}, {'Name': 'main-adssubsettingdp-data-processing-output-dev', 'CreationDate': datetime.datetime(2023, 3, 13, 14, 46, 59, tzinfo=tzutc())}, {'Name': 'main-adssubsettingdp-data-processing-staging-dev', 'CreationDate': datetime.datetime(2023, 3, 10, 10, 58, 37, tzinfo=tzutc())}, {'Name': 'main-deploytodev-main-ma-largefilesbucket5bb0b61f-12nhg51se7f7e', 'CreationDate': datetime.datetime(2023, 3, 20, 16, 38, 50, tzinfo=tzutc())}, {'Name': 'main-ss-shc-mock-service-hub-data-bucket', 'CreationDate': datetime.datetime(2023, 1, 9, 10, 30, 59, tzinfo=tzutc())}]\n"
     ]
    },
    {
     "ename": "Exception",
     "evalue": "Incorrect amount of data processing ingest buckets",
     "output_type": "error",
     "traceback": [
      "\u001B[1;31m---------------------------------------------------------------------------\u001B[0m",
      "\u001B[1;31mException\u001B[0m                                 Traceback (most recent call last)",
      "Cell \u001B[1;32mIn[3], line 1\u001B[0m\n\u001B[1;32m----> 1\u001B[0m data_processing_ingest_bucket \u001B[38;5;241m=\u001B[39m \u001B[43mretrieve_data_process_ingest_bucket\u001B[49m\u001B[43m(\u001B[49m\u001B[43m)\u001B[49m\n\u001B[0;32m      2\u001B[0m data_processing_ingest_bucket\n",
      "File \u001B[1;32mC:\\Projects\\Jupyter-book-test\\mynewbook\\utils.py:78\u001B[0m, in \u001B[0;36mretrieve_data_process_ingest_bucket\u001B[1;34m()\u001B[0m\n\u001B[0;32m     76\u001B[0m filtered_bucket_list \u001B[38;5;241m=\u001B[39m [bucket[\u001B[38;5;124m\"\u001B[39m\u001B[38;5;124mName\u001B[39m\u001B[38;5;124m\"\u001B[39m] \u001B[38;5;28;01mfor\u001B[39;00m bucket \u001B[38;5;129;01min\u001B[39;00m bucket_list \u001B[38;5;28;01mif\u001B[39;00m DATA_PROCESSING_INGEST_PREFIX \u001B[38;5;129;01min\u001B[39;00m bucket[\u001B[38;5;124m\"\u001B[39m\u001B[38;5;124mName\u001B[39m\u001B[38;5;124m\"\u001B[39m]]\n\u001B[0;32m     77\u001B[0m \u001B[38;5;28;01mif\u001B[39;00m \u001B[38;5;28mlen\u001B[39m(filtered_bucket_list) \u001B[38;5;241m!=\u001B[39m ACCEPTED_NUMBER_OF_BUCKETS:\n\u001B[1;32m---> 78\u001B[0m     \u001B[38;5;28;01mraise\u001B[39;00m \u001B[38;5;167;01mException\u001B[39;00m(\u001B[38;5;124m\"\u001B[39m\u001B[38;5;124mIncorrect amount of data processing ingest buckets\u001B[39m\u001B[38;5;124m\"\u001B[39m)  \u001B[38;5;66;03m# pylint: disable=broad-exception-raised\u001B[39;00m\n\u001B[0;32m     79\u001B[0m data_processing_ingest_bucket \u001B[38;5;241m=\u001B[39m filtered_bucket_list[\u001B[38;5;241m0\u001B[39m]\n\u001B[0;32m     80\u001B[0m \u001B[38;5;28;01mreturn\u001B[39;00m \u001B[38;5;28mstr\u001B[39m(data_processing_ingest_bucket)\n",
      "\u001B[1;31mException\u001B[0m: Incorrect amount of data processing ingest buckets"
     ]
    }
   ],
   "source": [
    "data_processing_ingest_bucket = retrieve_data_process_ingest_bucket()\n",
    "data_processing_ingest_bucket"
   ]
  },
  {
   "cell_type": "code",
   "execution_count": null,
   "metadata": {
    "jupyter": {
     "outputs_hidden": false
    },
    "pycharm": {
     "name": "#%%\n"
    }
   },
   "outputs": [],
   "source": [
    "## 2. other data"
   ]
  },
  {
   "cell_type": "markdown",
   "metadata": {},
   "source": [
    "### Description"
   ]
  }
 ],
 "metadata": {
  "kernelspec": {
   "display_name": ".env",
   "language": "python",
   "name": ".env"
  },
  "language_info": {
   "codemirror_mode": {
    "name": "ipython",
    "version": 3
   },
   "file_extension": ".py",
   "mimetype": "text/x-python",
   "name": "python",
   "nbconvert_exporter": "python",
   "pygments_lexer": "ipython3",
   "version": "3.8.3"
  }
 },
 "nbformat": 4,
 "nbformat_minor": 4
}